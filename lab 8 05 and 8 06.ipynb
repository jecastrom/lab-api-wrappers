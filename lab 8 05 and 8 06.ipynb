{
 "cells": [
  {
   "cell_type": "markdown",
   "id": "5c0d572b-5ec6-469c-8c07-e92aea26d265",
   "metadata": {},
   "source": [
    "# Lab | API wrappers - Create your collection of songs & audio features\n",
    "# Lab | Unsupervised learning intro.\n",
    "\n",
    "Jorge Castro DAPT NOV 2021"
   ]
  },
  {
   "cell_type": "code",
   "execution_count": 81,
   "id": "aa646ff1-7905-4c71-b310-f9e0d2d82da7",
   "metadata": {},
   "outputs": [],
   "source": [
    "from bs4 import BeautifulSoup\n",
    "import requests\n",
    "import math\n",
    "import numpy as np\n",
    "import spotipy\n",
    "from spotipy.oauth2 import SpotifyClientCredentials\n",
    "import pandas as pd\n",
    "from tqdm.notebook import tqdm\n",
    "from collections import defaultdict\n",
    "import getpass"
   ]
  },
  {
   "cell_type": "code",
   "execution_count": 119,
   "id": "2bc8759e-cf81-4df0-82ab-ba074441e46f",
   "metadata": {},
   "outputs": [
    {
     "data": {
      "text/plain": [
       "'C:\\\\Users\\\\jcast\\\\lab-web-scraping-single-page'"
      ]
     },
     "execution_count": 119,
     "metadata": {},
     "output_type": "execute_result"
    }
   ],
   "source": [
    "pwd\n"
   ]
  },
  {
   "cell_type": "code",
   "execution_count": 3,
   "id": "98eb07b7-21fb-4ae5-8fdc-4d83b83cf331",
   "metadata": {},
   "outputs": [],
   "source": [
    "r = requests.get('https://www.billboard.com/charts/hot-100/')"
   ]
  },
  {
   "cell_type": "code",
   "execution_count": 4,
   "id": "0086f75d-4917-46b1-8248-a1115f787844",
   "metadata": {},
   "outputs": [
    {
     "data": {
      "text/plain": [
       "200"
      ]
     },
     "execution_count": 4,
     "metadata": {},
     "output_type": "execute_result"
    }
   ],
   "source": [
    "r.status_code"
   ]
  },
  {
   "cell_type": "code",
   "execution_count": 5,
   "id": "cb89f630-7d25-4e4f-b5e0-196b7d2b7851",
   "metadata": {},
   "outputs": [],
   "source": [
    "html = r.content"
   ]
  },
  {
   "cell_type": "code",
   "execution_count": 6,
   "id": "de7301e0-17f7-4e42-a3c1-0147ed525031",
   "metadata": {},
   "outputs": [],
   "source": [
    "#html"
   ]
  },
  {
   "cell_type": "code",
   "execution_count": 7,
   "id": "d3cad712-56ef-42b4-9121-c0227bd0dd6b",
   "metadata": {},
   "outputs": [],
   "source": [
    "soup = BeautifulSoup(html, 'html.parser')"
   ]
  },
  {
   "cell_type": "code",
   "execution_count": 8,
   "id": "014ed7ba-a350-43e8-8033-8a460443c5b7",
   "metadata": {},
   "outputs": [],
   "source": [
    "#soup"
   ]
  },
  {
   "cell_type": "code",
   "execution_count": 9,
   "id": "edef94f8-68e1-445f-920d-10411d31ca36",
   "metadata": {},
   "outputs": [],
   "source": [
    "html_songs = soup.find_all('h3', attrs={'id': 'title-of-a-story'})"
   ]
  },
  {
   "cell_type": "code",
   "execution_count": 10,
   "id": "7ce72e48-e5cc-4ab8-9ca1-dd15adc7fa06",
   "metadata": {},
   "outputs": [],
   "source": [
    "#html_songs"
   ]
  },
  {
   "cell_type": "code",
   "execution_count": 11,
   "id": "0a0dfe1e-2f69-4109-8780-f87db774c4db",
   "metadata": {},
   "outputs": [],
   "source": [
    "html_top1 = soup.find_all('span', attrs={'class': 'c-label a-no-trucate a-font-primary-s \\\n",
    "lrv-u-font-size-14@mobile-max u-line-height-normal@mobile-max u-letter-spacing-0021 \\\n",
    "lrv-u-display-block a-truncate-ellipsis-2line u-max-width-330 u-max-width-230@tablet-only u-font-size-20@tablet'})\n"
   ]
  },
  {
   "cell_type": "code",
   "execution_count": 12,
   "id": "ebb7869b-49dc-4e7c-aa8d-e4983f8f0445",
   "metadata": {},
   "outputs": [
    {
     "data": {
      "text/plain": [
       "[<span class=\"c-label a-no-trucate a-font-primary-s lrv-u-font-size-14@mobile-max u-line-height-normal@mobile-max u-letter-spacing-0021 lrv-u-display-block a-truncate-ellipsis-2line u-max-width-330 u-max-width-230@tablet-only u-font-size-20@tablet\">\n",
       " \t\n",
       " \tHarry Styles\n",
       " </span>]"
      ]
     },
     "execution_count": 12,
     "metadata": {},
     "output_type": "execute_result"
    }
   ],
   "source": [
    "html_top1"
   ]
  },
  {
   "cell_type": "code",
   "execution_count": 13,
   "id": "550e3539-e02c-46a5-a49b-4ac0fb5dd999",
   "metadata": {},
   "outputs": [],
   "source": [
    "html_artists = soup.find_all('span', attrs={'class': 'c-label a-no-trucate a-font-primary-s lrv-u-font-size-14@mobile-max \\\n",
    "u-line-height-normal@mobile-max u-letter-spacing-0021 lrv-u-display-block a-truncate-ellipsis-2line u-max-width-330 \\\n",
    "u-max-width-230@tablet-only'})"
   ]
  },
  {
   "cell_type": "code",
   "execution_count": 14,
   "id": "5d766d43-3365-4491-b496-48ec125f52f2",
   "metadata": {},
   "outputs": [],
   "source": [
    "#html_artists"
   ]
  },
  {
   "cell_type": "code",
   "execution_count": 15,
   "id": "28f9dec4-a5eb-4128-b5cc-fbb406d57bb4",
   "metadata": {},
   "outputs": [],
   "source": [
    "# Looking with \"Inspect\" in the Billboard chart, a parent class \"li\" contains the info of both song titles and artists:\n",
    "# Because the fonts are different, the first song has one class and all the rest of the songs have another class. So \n",
    "# we have to put the 2 list toguether. "
   ]
  },
  {
   "cell_type": "code",
   "execution_count": 16,
   "id": "a13e465a-cd4b-4674-b1f3-43942392f16e",
   "metadata": {},
   "outputs": [],
   "source": [
    "html_first = soup.find_all('li', attrs={'class': 'o-chart-results-list__item // lrv-u-flex-grow-1 lrv-u-flex \\\n",
    "lrv-u-flex-direction-column lrv-u-justify-content-center lrv-u-border-b-1 u-border-b-0@mobile-max \\\n",
    "lrv-u-border-color-grey-light lrv-u-padding-l-1@mobile-max'})"
   ]
  },
  {
   "cell_type": "code",
   "execution_count": 17,
   "id": "fb8c688a-a854-4c84-a132-79e5b8696d28",
   "metadata": {},
   "outputs": [],
   "source": [
    "#html_first"
   ]
  },
  {
   "cell_type": "code",
   "execution_count": 18,
   "id": "f69bb4a3-cd4c-4112-b1de-caf34191dfc8",
   "metadata": {},
   "outputs": [],
   "source": [
    "\n",
    "html_rest = soup.find_all('li', attrs={'class': 'o-chart-results-list__item // lrv-u-flex-grow-1 lrv-u-flex \\\n",
    "lrv-u-flex-direction-column lrv-u-justify-content-center lrv-u-border-b-1 u-border-b-0@mobile-max lrv-u-border-color-grey-light \\\n",
    "lrv-u-padding-l-050 lrv-u-padding-l-1@mobile-max'})"
   ]
  },
  {
   "cell_type": "code",
   "execution_count": 19,
   "id": "3e815fd9-dbe8-4183-afd5-9b35a42e44fb",
   "metadata": {},
   "outputs": [],
   "source": [
    "#html_rest"
   ]
  },
  {
   "cell_type": "code",
   "execution_count": 20,
   "id": "ce441c6a-96f6-4b09-b535-930a2286c362",
   "metadata": {},
   "outputs": [],
   "source": [
    "# I can now join the 2 lists"
   ]
  },
  {
   "cell_type": "code",
   "execution_count": 21,
   "id": "d4a7859e-7b94-42be-8dfb-95afb9e46c17",
   "metadata": {},
   "outputs": [],
   "source": [
    "html_all = html_first + html_rest"
   ]
  },
  {
   "cell_type": "code",
   "execution_count": 22,
   "id": "a2b2cdd6-bb11-4ed5-a46b-bc87decbd8b6",
   "metadata": {},
   "outputs": [],
   "source": [
    "#html_all"
   ]
  },
  {
   "cell_type": "markdown",
   "id": "149f944f-c604-4179-b725-4cb1bf03e1ef",
   "metadata": {},
   "source": [
    "## Data Cleaning"
   ]
  },
  {
   "cell_type": "raw",
   "id": "aca27125-9840-44b0-92c7-20ad3106be18",
   "metadata": {},
   "source": [
    "# Just to have a look at the data after cleaning\n",
    "\n",
    "for song in html_all:\n",
    "    print(song.find('h3').get_text())\n",
    "    print(song.find('span').get_text())"
   ]
  },
  {
   "cell_type": "code",
   "execution_count": 23,
   "id": "3c32fd39-9f86-4c2d-a422-c0badc94b70a",
   "metadata": {},
   "outputs": [
    {
     "data": {
      "text/html": [
       "<div>\n",
       "<style scoped>\n",
       "    .dataframe tbody tr th:only-of-type {\n",
       "        vertical-align: middle;\n",
       "    }\n",
       "\n",
       "    .dataframe tbody tr th {\n",
       "        vertical-align: top;\n",
       "    }\n",
       "\n",
       "    .dataframe thead th {\n",
       "        text-align: right;\n",
       "    }\n",
       "</style>\n",
       "<table border=\"1\" class=\"dataframe\">\n",
       "  <thead>\n",
       "    <tr style=\"text-align: right;\">\n",
       "      <th></th>\n",
       "      <th>song</th>\n",
       "      <th>artist</th>\n",
       "    </tr>\n",
       "  </thead>\n",
       "  <tbody>\n",
       "    <tr>\n",
       "      <th>0</th>\n",
       "      <td>As It Was</td>\n",
       "      <td>Harry Styles</td>\n",
       "    </tr>\n",
       "    <tr>\n",
       "      <th>1</th>\n",
       "      <td>First Class</td>\n",
       "      <td>Jack Harlow</td>\n",
       "    </tr>\n",
       "    <tr>\n",
       "      <th>2</th>\n",
       "      <td>Heat Waves</td>\n",
       "      <td>Glass Animals</td>\n",
       "    </tr>\n",
       "    <tr>\n",
       "      <th>3</th>\n",
       "      <td>Big Energy</td>\n",
       "      <td>Latto</td>\n",
       "    </tr>\n",
       "    <tr>\n",
       "      <th>4</th>\n",
       "      <td>Enemy</td>\n",
       "      <td>Imagine Dragons X JID</td>\n",
       "    </tr>\n",
       "    <tr>\n",
       "      <th>...</th>\n",
       "      <td>...</td>\n",
       "      <td>...</td>\n",
       "    </tr>\n",
       "    <tr>\n",
       "      <th>95</th>\n",
       "      <td>P Power</td>\n",
       "      <td>Gunna Featuring Drake</td>\n",
       "    </tr>\n",
       "    <tr>\n",
       "      <th>96</th>\n",
       "      <td>Money So Big</td>\n",
       "      <td>Yeat</td>\n",
       "    </tr>\n",
       "    <tr>\n",
       "      <th>97</th>\n",
       "      <td>Blick Blick!</td>\n",
       "      <td>Coi Leray &amp; Nicki Minaj</td>\n",
       "    </tr>\n",
       "    <tr>\n",
       "      <th>98</th>\n",
       "      <td>Fall In Love</td>\n",
       "      <td>Bailey Zimmerman</td>\n",
       "    </tr>\n",
       "    <tr>\n",
       "      <th>99</th>\n",
       "      <td>X Ultima Vez</td>\n",
       "      <td>Daddy Yankee &amp; Bad Bunny</td>\n",
       "    </tr>\n",
       "  </tbody>\n",
       "</table>\n",
       "<p>100 rows × 2 columns</p>\n",
       "</div>"
      ],
      "text/plain": [
       "            song                    artist\n",
       "0      As It Was              Harry Styles\n",
       "1    First Class               Jack Harlow\n",
       "2     Heat Waves             Glass Animals\n",
       "3     Big Energy                     Latto\n",
       "4          Enemy     Imagine Dragons X JID\n",
       "..           ...                       ...\n",
       "95       P Power     Gunna Featuring Drake\n",
       "96  Money So Big                      Yeat\n",
       "97  Blick Blick!   Coi Leray & Nicki Minaj\n",
       "98  Fall In Love          Bailey Zimmerman\n",
       "99  X Ultima Vez  Daddy Yankee & Bad Bunny\n",
       "\n",
       "[100 rows x 2 columns]"
      ]
     },
     "execution_count": 23,
     "metadata": {},
     "output_type": "execute_result"
    }
   ],
   "source": [
    "# Creating a DataFrame: here we create two arrays, we loop through the content in html_all\n",
    "# then we push the data we need into the two arrays. \n",
    "\n",
    "song = []\n",
    "artist = []\n",
    "\n",
    "for entry in html_all:\n",
    "    song.append(entry.find(\"h3\").get_text().replace(\"\\n\", \"\").replace('\\t', ''))\n",
    "    artist.append(entry.find(\"span\").get_text().replace(\"\\n\", \"\").replace('\\t', ''))\n",
    "    \n",
    "# Here we ensamble the DataFrame \n",
    "top100 = pd.DataFrame()\n",
    "top100['song'] = song\n",
    "top100['artist'] = artist\n",
    "top100\n",
    "    "
   ]
  },
  {
   "cell_type": "code",
   "execution_count": 24,
   "id": "5f325b82-23f7-40a8-9486-6acffa6b3523",
   "metadata": {},
   "outputs": [
    {
     "name": "stdin",
     "output_type": "stream",
     "text": [
      "input client_id ································\n",
      "input client_secret ································\n"
     ]
    }
   ],
   "source": [
    "client_id = getpass.getpass(prompt='input client_id') \n",
    "client_secret = getpass.getpass(prompt='input client_secret')"
   ]
  },
  {
   "cell_type": "code",
   "execution_count": 25,
   "id": "3afee4c0-d16f-4dc2-ab94-03866d8f6097",
   "metadata": {},
   "outputs": [],
   "source": [
    "sp = spotipy.Spotify(auth_manager=SpotifyClientCredentials(client_id=client_id,\n",
    "                                                           client_secret=client_secret))"
   ]
  },
  {
   "cell_type": "code",
   "execution_count": 26,
   "id": "77811895-6fe0-47df-88d6-f3bda776f524",
   "metadata": {},
   "outputs": [],
   "source": [
    "#Get many songs from Spotify"
   ]
  },
  {
   "cell_type": "code",
   "execution_count": 27,
   "id": "f94a766f-3ab2-44a0-8707-a3c9e080a014",
   "metadata": {},
   "outputs": [],
   "source": [
    "user = 'spotify'\n",
    "\n",
    "playlists = sp.user_playlists(user)\n",
    "playlist_uri = []\n",
    "playlist_names = []\n",
    "\n",
    "while playlists:\n",
    "    for playlist in playlists['items']:\n",
    "        playlist_uri.append(playlist['uri'])\n",
    "        playlist_names.append(playlist['name'])\n",
    "    if playlists['next']:\n",
    "        playlists = sp.next(playlists)\n",
    "    else:\n",
    "        playlists = None"
   ]
  },
  {
   "cell_type": "code",
   "execution_count": 28,
   "id": "4c9527a0-401f-4bb5-be9f-0649e70b7419",
   "metadata": {},
   "outputs": [],
   "source": [
    "def get_tracks_from_playlist(username, playlist_id):\n",
    "    results = sp.user_playlist_tracks(username, playlist_id)\n",
    "    tracks = results['items']\n",
    "    while results['next']:\n",
    "        results = sp.next(results)\n",
    "        tracks.extend(results['items'])\n",
    "    return tracks"
   ]
  },
  {
   "cell_type": "code",
   "execution_count": 29,
   "id": "ff89edbe-3830-4ea9-81b8-0dad1c5b9fca",
   "metadata": {},
   "outputs": [],
   "source": [
    "def get_all_tracks(uri):\n",
    "\n",
    "    s_id = []\n",
    "    s_name = []\n",
    "    s_artists = []\n",
    "    \n",
    "    results = get_tracks_from_playlist(\"\",uri)\n",
    "    c = 0\n",
    "    for i in results:\n",
    "        if i['track'] != None:\n",
    "            s_id.append(\"missing value\" if i['track']['id'] == None else i['track']['id'])\n",
    "            s_name.append(i['track']['name'])\n",
    "            s_artists.append([j['name'] for j in i['track']['artists']])\n",
    "\n",
    "    return {'song_id':s_id, 'song_name':s_name, 'artists':s_artists}"
   ]
  },
  {
   "cell_type": "code",
   "execution_count": 30,
   "id": "7506d2f9-cfd1-424c-9b50-50f964d2b908",
   "metadata": {},
   "outputs": [
    {
     "data": {
      "application/vnd.jupyter.widget-view+json": {
       "model_id": "57088992dd5742898dca2329dfedce00",
       "version_major": 2,
       "version_minor": 0
      },
      "text/plain": [
       "  0%|          | 0/1196 [00:00<?, ?it/s]"
      ]
     },
     "metadata": {},
     "output_type": "display_data"
    }
   ],
   "source": [
    "songs = {'song_id':[], 'song_name':[], 'artists':[]}\n",
    "\n",
    "for i in tqdm(playlist_uri):\n",
    "    d = get_all_tracks(i)\n",
    "    [songs['song_id'].append(i) for i in d['song_id']]\n",
    "    [songs['song_name'].append(i) for i in d['song_name']]\n",
    "    [songs['artists'].append(i) for i in d['artists']]"
   ]
  },
  {
   "cell_type": "code",
   "execution_count": 31,
   "id": "e9e29ff0-e521-4651-89ce-5469c221d513",
   "metadata": {},
   "outputs": [
    {
     "data": {
      "text/html": [
       "<div>\n",
       "<style scoped>\n",
       "    .dataframe tbody tr th:only-of-type {\n",
       "        vertical-align: middle;\n",
       "    }\n",
       "\n",
       "    .dataframe tbody tr th {\n",
       "        vertical-align: top;\n",
       "    }\n",
       "\n",
       "    .dataframe thead th {\n",
       "        text-align: right;\n",
       "    }\n",
       "</style>\n",
       "<table border=\"1\" class=\"dataframe\">\n",
       "  <thead>\n",
       "    <tr style=\"text-align: right;\">\n",
       "      <th></th>\n",
       "      <th>song_id</th>\n",
       "      <th>song_name</th>\n",
       "      <th>artists</th>\n",
       "    </tr>\n",
       "  </thead>\n",
       "  <tbody>\n",
       "    <tr>\n",
       "      <th>0</th>\n",
       "      <td>2KdKh9vHbKW0tZLqtpxxI0</td>\n",
       "      <td>Honest (feat. Don Toliver)</td>\n",
       "      <td>[Justin Bieber, Don Toliver]</td>\n",
       "    </tr>\n",
       "    <tr>\n",
       "      <th>1</th>\n",
       "      <td>1rDQ4oMwGJI7B4tovsBOxc</td>\n",
       "      <td>First Class</td>\n",
       "      <td>[Jack Harlow]</td>\n",
       "    </tr>\n",
       "    <tr>\n",
       "      <th>2</th>\n",
       "      <td>4LRPiXqCikLlN15c3yImP7</td>\n",
       "      <td>As It Was</td>\n",
       "      <td>[Harry Styles]</td>\n",
       "    </tr>\n",
       "    <tr>\n",
       "      <th>3</th>\n",
       "      <td>0QBzMgT7NIeoCYy3sJCof1</td>\n",
       "      <td>Bam Bam (feat. Ed Sheeran)</td>\n",
       "      <td>[Camila Cabello, Ed Sheeran]</td>\n",
       "    </tr>\n",
       "    <tr>\n",
       "      <th>4</th>\n",
       "      <td>3USxtqRwSYz57Ewm6wWRMp</td>\n",
       "      <td>Heat Waves</td>\n",
       "      <td>[Glass Animals]</td>\n",
       "    </tr>\n",
       "    <tr>\n",
       "      <th>...</th>\n",
       "      <td>...</td>\n",
       "      <td>...</td>\n",
       "      <td>...</td>\n",
       "    </tr>\n",
       "    <tr>\n",
       "      <th>94315</th>\n",
       "      <td>5kqIPrATaCc2LqxVWzQGbk</td>\n",
       "      <td>7 Years</td>\n",
       "      <td>[Lukas Graham]</td>\n",
       "    </tr>\n",
       "    <tr>\n",
       "      <th>94316</th>\n",
       "      <td>3FCto7hnn1shUyZL42YgfO</td>\n",
       "      <td>Piano Man</td>\n",
       "      <td>[Billy Joel]</td>\n",
       "    </tr>\n",
       "    <tr>\n",
       "      <th>94317</th>\n",
       "      <td>3XVBdLihbNbxUwZosxcGuJ</td>\n",
       "      <td>If I Ain't Got You</td>\n",
       "      <td>[Alicia Keys]</td>\n",
       "    </tr>\n",
       "    <tr>\n",
       "      <th>94318</th>\n",
       "      <td>6QPKYGnAW9QozVz2dSWqRg</td>\n",
       "      <td>Someone Like You</td>\n",
       "      <td>[Adele]</td>\n",
       "    </tr>\n",
       "    <tr>\n",
       "      <th>94319</th>\n",
       "      <td>1VdZ0vKfR5jneCmWIUAMxK</td>\n",
       "      <td>The A Team</td>\n",
       "      <td>[Ed Sheeran]</td>\n",
       "    </tr>\n",
       "  </tbody>\n",
       "</table>\n",
       "<p>94320 rows × 3 columns</p>\n",
       "</div>"
      ],
      "text/plain": [
       "                      song_id                   song_name  \\\n",
       "0      2KdKh9vHbKW0tZLqtpxxI0  Honest (feat. Don Toliver)   \n",
       "1      1rDQ4oMwGJI7B4tovsBOxc                 First Class   \n",
       "2      4LRPiXqCikLlN15c3yImP7                   As It Was   \n",
       "3      0QBzMgT7NIeoCYy3sJCof1  Bam Bam (feat. Ed Sheeran)   \n",
       "4      3USxtqRwSYz57Ewm6wWRMp                  Heat Waves   \n",
       "...                       ...                         ...   \n",
       "94315  5kqIPrATaCc2LqxVWzQGbk                     7 Years   \n",
       "94316  3FCto7hnn1shUyZL42YgfO                   Piano Man   \n",
       "94317  3XVBdLihbNbxUwZosxcGuJ          If I Ain't Got You   \n",
       "94318  6QPKYGnAW9QozVz2dSWqRg            Someone Like You   \n",
       "94319  1VdZ0vKfR5jneCmWIUAMxK                  The A Team   \n",
       "\n",
       "                            artists  \n",
       "0      [Justin Bieber, Don Toliver]  \n",
       "1                     [Jack Harlow]  \n",
       "2                    [Harry Styles]  \n",
       "3      [Camila Cabello, Ed Sheeran]  \n",
       "4                   [Glass Animals]  \n",
       "...                             ...  \n",
       "94315                [Lukas Graham]  \n",
       "94316                  [Billy Joel]  \n",
       "94317                 [Alicia Keys]  \n",
       "94318                       [Adele]  \n",
       "94319                  [Ed Sheeran]  \n",
       "\n",
       "[94320 rows x 3 columns]"
      ]
     },
     "execution_count": 31,
     "metadata": {},
     "output_type": "execute_result"
    }
   ],
   "source": [
    "df_songs = pd.DataFrame(songs)\n",
    "df_songs"
   ]
  },
  {
   "cell_type": "code",
   "execution_count": 32,
   "id": "bfab946b-76cf-4307-89c9-7cfe88b7a6d2",
   "metadata": {},
   "outputs": [
    {
     "data": {
      "text/html": [
       "<div>\n",
       "<style scoped>\n",
       "    .dataframe tbody tr th:only-of-type {\n",
       "        vertical-align: middle;\n",
       "    }\n",
       "\n",
       "    .dataframe tbody tr th {\n",
       "        vertical-align: top;\n",
       "    }\n",
       "\n",
       "    .dataframe thead th {\n",
       "        text-align: right;\n",
       "    }\n",
       "</style>\n",
       "<table border=\"1\" class=\"dataframe\">\n",
       "  <thead>\n",
       "    <tr style=\"text-align: right;\">\n",
       "      <th></th>\n",
       "      <th>song_id</th>\n",
       "      <th>song_name</th>\n",
       "      <th>artists</th>\n",
       "    </tr>\n",
       "  </thead>\n",
       "  <tbody>\n",
       "    <tr>\n",
       "      <th>0</th>\n",
       "      <td>2KdKh9vHbKW0tZLqtpxxI0</td>\n",
       "      <td>Honest (feat. Don Toliver)</td>\n",
       "      <td>[Justin Bieber, Don Toliver]</td>\n",
       "    </tr>\n",
       "    <tr>\n",
       "      <th>1</th>\n",
       "      <td>1rDQ4oMwGJI7B4tovsBOxc</td>\n",
       "      <td>First Class</td>\n",
       "      <td>[Jack Harlow]</td>\n",
       "    </tr>\n",
       "    <tr>\n",
       "      <th>2</th>\n",
       "      <td>4LRPiXqCikLlN15c3yImP7</td>\n",
       "      <td>As It Was</td>\n",
       "      <td>[Harry Styles]</td>\n",
       "    </tr>\n",
       "    <tr>\n",
       "      <th>3</th>\n",
       "      <td>0QBzMgT7NIeoCYy3sJCof1</td>\n",
       "      <td>Bam Bam (feat. Ed Sheeran)</td>\n",
       "      <td>[Camila Cabello, Ed Sheeran]</td>\n",
       "    </tr>\n",
       "    <tr>\n",
       "      <th>4</th>\n",
       "      <td>3USxtqRwSYz57Ewm6wWRMp</td>\n",
       "      <td>Heat Waves</td>\n",
       "      <td>[Glass Animals]</td>\n",
       "    </tr>\n",
       "    <tr>\n",
       "      <th>...</th>\n",
       "      <td>...</td>\n",
       "      <td>...</td>\n",
       "      <td>...</td>\n",
       "    </tr>\n",
       "    <tr>\n",
       "      <th>71973</th>\n",
       "      <td>3Zuf70897YkrVRAsrBMMSF</td>\n",
       "      <td>You're The One That I Want - From \"Grease\" Ori...</td>\n",
       "      <td>[John Travolta, Olivia Newton-John]</td>\n",
       "    </tr>\n",
       "    <tr>\n",
       "      <th>71974</th>\n",
       "      <td>1MDoll6jK4rrk2BcFRP5i7</td>\n",
       "      <td>Hello</td>\n",
       "      <td>[Adele]</td>\n",
       "    </tr>\n",
       "    <tr>\n",
       "      <th>71975</th>\n",
       "      <td>0ygTmpa6uSotkBkTiwcMZ4</td>\n",
       "      <td>Warwick Avenue</td>\n",
       "      <td>[Duffy]</td>\n",
       "    </tr>\n",
       "    <tr>\n",
       "      <th>71976</th>\n",
       "      <td>3NNqqioprPCnYcVtDn3wvS</td>\n",
       "      <td>Catch &amp; Release (Deepend remix)</td>\n",
       "      <td>[Matt Simons, Deepend]</td>\n",
       "    </tr>\n",
       "    <tr>\n",
       "      <th>71977</th>\n",
       "      <td>5kqIPrATaCc2LqxVWzQGbk</td>\n",
       "      <td>7 Years</td>\n",
       "      <td>[Lukas Graham]</td>\n",
       "    </tr>\n",
       "  </tbody>\n",
       "</table>\n",
       "<p>71978 rows × 3 columns</p>\n",
       "</div>"
      ],
      "text/plain": [
       "                      song_id  \\\n",
       "0      2KdKh9vHbKW0tZLqtpxxI0   \n",
       "1      1rDQ4oMwGJI7B4tovsBOxc   \n",
       "2      4LRPiXqCikLlN15c3yImP7   \n",
       "3      0QBzMgT7NIeoCYy3sJCof1   \n",
       "4      3USxtqRwSYz57Ewm6wWRMp   \n",
       "...                       ...   \n",
       "71973  3Zuf70897YkrVRAsrBMMSF   \n",
       "71974  1MDoll6jK4rrk2BcFRP5i7   \n",
       "71975  0ygTmpa6uSotkBkTiwcMZ4   \n",
       "71976  3NNqqioprPCnYcVtDn3wvS   \n",
       "71977  5kqIPrATaCc2LqxVWzQGbk   \n",
       "\n",
       "                                               song_name  \\\n",
       "0                             Honest (feat. Don Toliver)   \n",
       "1                                            First Class   \n",
       "2                                              As It Was   \n",
       "3                             Bam Bam (feat. Ed Sheeran)   \n",
       "4                                             Heat Waves   \n",
       "...                                                  ...   \n",
       "71973  You're The One That I Want - From \"Grease\" Ori...   \n",
       "71974                                              Hello   \n",
       "71975                                     Warwick Avenue   \n",
       "71976                    Catch & Release (Deepend remix)   \n",
       "71977                                            7 Years   \n",
       "\n",
       "                                   artists  \n",
       "0             [Justin Bieber, Don Toliver]  \n",
       "1                            [Jack Harlow]  \n",
       "2                           [Harry Styles]  \n",
       "3             [Camila Cabello, Ed Sheeran]  \n",
       "4                          [Glass Animals]  \n",
       "...                                    ...  \n",
       "71973  [John Travolta, Olivia Newton-John]  \n",
       "71974                              [Adele]  \n",
       "71975                              [Duffy]  \n",
       "71976               [Matt Simons, Deepend]  \n",
       "71977                       [Lukas Graham]  \n",
       "\n",
       "[71978 rows x 3 columns]"
      ]
     },
     "execution_count": 32,
     "metadata": {},
     "output_type": "execute_result"
    }
   ],
   "source": [
    "df_songs = df_songs.drop_duplicates(subset='song_id').reset_index(drop=True)\n",
    "df_songs"
   ]
  },
  {
   "cell_type": "code",
   "execution_count": 33,
   "id": "260cee1e-33bb-4661-aa9e-22257c3ce951",
   "metadata": {},
   "outputs": [
    {
     "data": {
      "application/vnd.jupyter.widget-view+json": {
       "model_id": "3306a8dd648c4f5aaa65605a1ae4c315",
       "version_major": 2,
       "version_minor": 0
      },
      "text/plain": [
       "  0%|          | 0/720 [00:00<?, ?it/s]"
      ]
     },
     "metadata": {},
     "output_type": "display_data"
    }
   ],
   "source": [
    "features_list = []\n",
    "for i in tqdm(range(math.ceil(df_songs.shape[0]/100))):\n",
    "    features_list.append(sp.audio_features(df_songs['song_id'].to_list()[i*100:(i+1)*100]))"
   ]
  },
  {
   "cell_type": "code",
   "execution_count": 34,
   "id": "f69ae32e-2f36-4852-96b5-2144241c86fd",
   "metadata": {},
   "outputs": [],
   "source": [
    "features = []\n",
    "[[(features.append(j) if j != None else None) for j in i] for i in features_list]\n",
    "pass"
   ]
  },
  {
   "cell_type": "code",
   "execution_count": 35,
   "id": "6c8c33bc-bc58-405d-b840-7ea082c084da",
   "metadata": {},
   "outputs": [],
   "source": [
    "dic = defaultdict(list)\n",
    "{dic[key].append(f[key]) for f in features for key in f}  \n",
    "df_features = pd.DataFrame(dict(dic))"
   ]
  },
  {
   "cell_type": "code",
   "execution_count": 36,
   "id": "23bf3783-81c0-4dd5-a166-088b506da213",
   "metadata": {},
   "outputs": [
    {
     "data": {
      "text/plain": [
       "(71978, 3)"
      ]
     },
     "execution_count": 36,
     "metadata": {},
     "output_type": "execute_result"
    }
   ],
   "source": [
    "df_songs.shape"
   ]
  },
  {
   "cell_type": "code",
   "execution_count": 37,
   "id": "7f556aaa-a2ee-47e0-be33-2ce4b6f4eff9",
   "metadata": {},
   "outputs": [
    {
     "data": {
      "text/plain": [
       "(71693, 18)"
      ]
     },
     "execution_count": 37,
     "metadata": {},
     "output_type": "execute_result"
    }
   ],
   "source": [
    "df_features.shape"
   ]
  },
  {
   "cell_type": "code",
   "execution_count": 38,
   "id": "c2059bc7-19c5-4ebc-9c95-ea343b10fbc4",
   "metadata": {},
   "outputs": [],
   "source": [
    "df_features = df_features[df_features['speechiness']<0.8]"
   ]
  },
  {
   "cell_type": "code",
   "execution_count": 39,
   "id": "62395b1f-8364-4d32-89f0-e1876ff084cc",
   "metadata": {},
   "outputs": [
    {
     "data": {
      "text/plain": [
       "Index(['song_id', 'song_name', 'artists', 'danceability', 'energy', 'key',\n",
       "       'loudness', 'mode', 'speechiness', 'acousticness', 'instrumentalness',\n",
       "       'liveness', 'valence', 'tempo', 'type', 'uri', 'track_href',\n",
       "       'analysis_url', 'duration_ms', 'time_signature'],\n",
       "      dtype='object')"
      ]
     },
     "execution_count": 39,
     "metadata": {},
     "output_type": "execute_result"
    }
   ],
   "source": [
    "df_all = df_songs.merge(df_features.rename({'id':'song_id'}, axis=1), on='song_id', how='right')\n",
    "df_all.columns"
   ]
  },
  {
   "cell_type": "code",
   "execution_count": 40,
   "id": "7b1bc43c-c1e7-4954-945b-5a0cd9a625a5",
   "metadata": {},
   "outputs": [],
   "source": [
    "df_all = df_all.drop(['type', 'uri', 'track_href', 'analysis_url'], axis=1)"
   ]
  },
  {
   "cell_type": "code",
   "execution_count": 41,
   "id": "ae494feb-6ddc-4fe1-9df8-9d14cb6cb490",
   "metadata": {},
   "outputs": [
    {
     "data": {
      "text/html": [
       "<div>\n",
       "<style scoped>\n",
       "    .dataframe tbody tr th:only-of-type {\n",
       "        vertical-align: middle;\n",
       "    }\n",
       "\n",
       "    .dataframe tbody tr th {\n",
       "        vertical-align: top;\n",
       "    }\n",
       "\n",
       "    .dataframe thead th {\n",
       "        text-align: right;\n",
       "    }\n",
       "</style>\n",
       "<table border=\"1\" class=\"dataframe\">\n",
       "  <thead>\n",
       "    <tr style=\"text-align: right;\">\n",
       "      <th></th>\n",
       "      <th>song_id</th>\n",
       "      <th>song_name</th>\n",
       "      <th>artists</th>\n",
       "      <th>danceability</th>\n",
       "      <th>energy</th>\n",
       "      <th>key</th>\n",
       "      <th>loudness</th>\n",
       "      <th>mode</th>\n",
       "      <th>speechiness</th>\n",
       "      <th>acousticness</th>\n",
       "      <th>instrumentalness</th>\n",
       "      <th>liveness</th>\n",
       "      <th>valence</th>\n",
       "      <th>tempo</th>\n",
       "      <th>duration_ms</th>\n",
       "      <th>time_signature</th>\n",
       "    </tr>\n",
       "  </thead>\n",
       "  <tbody>\n",
       "    <tr>\n",
       "      <th>0</th>\n",
       "      <td>2KdKh9vHbKW0tZLqtpxxI0</td>\n",
       "      <td>Honest (feat. Don Toliver)</td>\n",
       "      <td>[Justin Bieber, Don Toliver]</td>\n",
       "      <td>0.810</td>\n",
       "      <td>0.655</td>\n",
       "      <td>8</td>\n",
       "      <td>-6.779</td>\n",
       "      <td>0</td>\n",
       "      <td>0.0698</td>\n",
       "      <td>0.1270</td>\n",
       "      <td>0.000082</td>\n",
       "      <td>0.1050</td>\n",
       "      <td>0.809</td>\n",
       "      <td>150.002</td>\n",
       "      <td>193322</td>\n",
       "      <td>4</td>\n",
       "    </tr>\n",
       "    <tr>\n",
       "      <th>1</th>\n",
       "      <td>1rDQ4oMwGJI7B4tovsBOxc</td>\n",
       "      <td>First Class</td>\n",
       "      <td>[Jack Harlow]</td>\n",
       "      <td>0.905</td>\n",
       "      <td>0.563</td>\n",
       "      <td>8</td>\n",
       "      <td>-6.135</td>\n",
       "      <td>1</td>\n",
       "      <td>0.1020</td>\n",
       "      <td>0.0254</td>\n",
       "      <td>0.000010</td>\n",
       "      <td>0.1130</td>\n",
       "      <td>0.324</td>\n",
       "      <td>106.998</td>\n",
       "      <td>173948</td>\n",
       "      <td>4</td>\n",
       "    </tr>\n",
       "    <tr>\n",
       "      <th>2</th>\n",
       "      <td>4LRPiXqCikLlN15c3yImP7</td>\n",
       "      <td>As It Was</td>\n",
       "      <td>[Harry Styles]</td>\n",
       "      <td>0.520</td>\n",
       "      <td>0.731</td>\n",
       "      <td>6</td>\n",
       "      <td>-5.338</td>\n",
       "      <td>0</td>\n",
       "      <td>0.0557</td>\n",
       "      <td>0.3420</td>\n",
       "      <td>0.001010</td>\n",
       "      <td>0.3110</td>\n",
       "      <td>0.662</td>\n",
       "      <td>173.930</td>\n",
       "      <td>167303</td>\n",
       "      <td>4</td>\n",
       "    </tr>\n",
       "    <tr>\n",
       "      <th>3</th>\n",
       "      <td>0QBzMgT7NIeoCYy3sJCof1</td>\n",
       "      <td>Bam Bam (feat. Ed Sheeran)</td>\n",
       "      <td>[Camila Cabello, Ed Sheeran]</td>\n",
       "      <td>0.756</td>\n",
       "      <td>0.697</td>\n",
       "      <td>8</td>\n",
       "      <td>-6.377</td>\n",
       "      <td>1</td>\n",
       "      <td>0.0401</td>\n",
       "      <td>0.1820</td>\n",
       "      <td>0.000000</td>\n",
       "      <td>0.3330</td>\n",
       "      <td>0.956</td>\n",
       "      <td>94.996</td>\n",
       "      <td>206071</td>\n",
       "      <td>4</td>\n",
       "    </tr>\n",
       "    <tr>\n",
       "      <th>4</th>\n",
       "      <td>3USxtqRwSYz57Ewm6wWRMp</td>\n",
       "      <td>Heat Waves</td>\n",
       "      <td>[Glass Animals]</td>\n",
       "      <td>0.761</td>\n",
       "      <td>0.525</td>\n",
       "      <td>11</td>\n",
       "      <td>-6.900</td>\n",
       "      <td>1</td>\n",
       "      <td>0.0944</td>\n",
       "      <td>0.4400</td>\n",
       "      <td>0.000007</td>\n",
       "      <td>0.0921</td>\n",
       "      <td>0.531</td>\n",
       "      <td>80.870</td>\n",
       "      <td>238805</td>\n",
       "      <td>4</td>\n",
       "    </tr>\n",
       "  </tbody>\n",
       "</table>\n",
       "</div>"
      ],
      "text/plain": [
       "                  song_id                   song_name  \\\n",
       "0  2KdKh9vHbKW0tZLqtpxxI0  Honest (feat. Don Toliver)   \n",
       "1  1rDQ4oMwGJI7B4tovsBOxc                 First Class   \n",
       "2  4LRPiXqCikLlN15c3yImP7                   As It Was   \n",
       "3  0QBzMgT7NIeoCYy3sJCof1  Bam Bam (feat. Ed Sheeran)   \n",
       "4  3USxtqRwSYz57Ewm6wWRMp                  Heat Waves   \n",
       "\n",
       "                        artists  danceability  energy  key  loudness  mode  \\\n",
       "0  [Justin Bieber, Don Toliver]         0.810   0.655    8    -6.779     0   \n",
       "1                 [Jack Harlow]         0.905   0.563    8    -6.135     1   \n",
       "2                [Harry Styles]         0.520   0.731    6    -5.338     0   \n",
       "3  [Camila Cabello, Ed Sheeran]         0.756   0.697    8    -6.377     1   \n",
       "4               [Glass Animals]         0.761   0.525   11    -6.900     1   \n",
       "\n",
       "   speechiness  acousticness  instrumentalness  liveness  valence    tempo  \\\n",
       "0       0.0698        0.1270          0.000082    0.1050    0.809  150.002   \n",
       "1       0.1020        0.0254          0.000010    0.1130    0.324  106.998   \n",
       "2       0.0557        0.3420          0.001010    0.3110    0.662  173.930   \n",
       "3       0.0401        0.1820          0.000000    0.3330    0.956   94.996   \n",
       "4       0.0944        0.4400          0.000007    0.0921    0.531   80.870   \n",
       "\n",
       "   duration_ms  time_signature  \n",
       "0       193322               4  \n",
       "1       173948               4  \n",
       "2       167303               4  \n",
       "3       206071               4  \n",
       "4       238805               4  "
      ]
     },
     "execution_count": 41,
     "metadata": {},
     "output_type": "execute_result"
    }
   ],
   "source": [
    "df_all.head()"
   ]
  },
  {
   "cell_type": "code",
   "execution_count": 42,
   "id": "7fe0da73-b1bd-4158-8655-bf214b610910",
   "metadata": {},
   "outputs": [],
   "source": [
    "# Feature selection"
   ]
  },
  {
   "cell_type": "code",
   "execution_count": 43,
   "id": "f56435f1-b42b-484d-9cb1-de807377a8e6",
   "metadata": {},
   "outputs": [],
   "source": [
    "X_cont = df_all[['danceability','energy','loudness','speechiness',\n",
    "                       'acousticness','instrumentalness','liveness','valence',\n",
    "                       'tempo','duration_ms']]"
   ]
  },
  {
   "cell_type": "code",
   "execution_count": 44,
   "id": "fd38a436-a7c0-4fe6-bf4c-c953ad87b1e1",
   "metadata": {},
   "outputs": [],
   "source": [
    "X_disc = df_all[['key','mode','time_signature']]"
   ]
  },
  {
   "cell_type": "code",
   "execution_count": 45,
   "id": "553d4271-c989-474b-8ed2-826f9660ee40",
   "metadata": {},
   "outputs": [],
   "source": [
    "from sklearn.preprocessing import StandardScaler\n",
    "scaler = StandardScaler()\n",
    "X_cont_st = scaler.fit_transform(X_cont)\n",
    "X_cont_st = pd.DataFrame(X_cont_st, columns=X_cont.columns)"
   ]
  },
  {
   "cell_type": "code",
   "execution_count": 46,
   "id": "caac6003-f092-4606-ac22-29b121336770",
   "metadata": {},
   "outputs": [
    {
     "data": {
      "text/html": [
       "<div>\n",
       "<style scoped>\n",
       "    .dataframe tbody tr th:only-of-type {\n",
       "        vertical-align: middle;\n",
       "    }\n",
       "\n",
       "    .dataframe tbody tr th {\n",
       "        vertical-align: top;\n",
       "    }\n",
       "\n",
       "    .dataframe thead th {\n",
       "        text-align: right;\n",
       "    }\n",
       "</style>\n",
       "<table border=\"1\" class=\"dataframe\">\n",
       "  <thead>\n",
       "    <tr style=\"text-align: right;\">\n",
       "      <th></th>\n",
       "      <th>key</th>\n",
       "      <th>mode</th>\n",
       "      <th>time_signature</th>\n",
       "    </tr>\n",
       "  </thead>\n",
       "  <tbody>\n",
       "    <tr>\n",
       "      <th>0</th>\n",
       "      <td>8</td>\n",
       "      <td>0</td>\n",
       "      <td>4</td>\n",
       "    </tr>\n",
       "    <tr>\n",
       "      <th>1</th>\n",
       "      <td>8</td>\n",
       "      <td>1</td>\n",
       "      <td>4</td>\n",
       "    </tr>\n",
       "    <tr>\n",
       "      <th>2</th>\n",
       "      <td>6</td>\n",
       "      <td>0</td>\n",
       "      <td>4</td>\n",
       "    </tr>\n",
       "    <tr>\n",
       "      <th>3</th>\n",
       "      <td>8</td>\n",
       "      <td>1</td>\n",
       "      <td>4</td>\n",
       "    </tr>\n",
       "    <tr>\n",
       "      <th>4</th>\n",
       "      <td>11</td>\n",
       "      <td>1</td>\n",
       "      <td>4</td>\n",
       "    </tr>\n",
       "    <tr>\n",
       "      <th>...</th>\n",
       "      <td>...</td>\n",
       "      <td>...</td>\n",
       "      <td>...</td>\n",
       "    </tr>\n",
       "    <tr>\n",
       "      <th>71044</th>\n",
       "      <td>0</td>\n",
       "      <td>1</td>\n",
       "      <td>4</td>\n",
       "    </tr>\n",
       "    <tr>\n",
       "      <th>71045</th>\n",
       "      <td>5</td>\n",
       "      <td>0</td>\n",
       "      <td>4</td>\n",
       "    </tr>\n",
       "    <tr>\n",
       "      <th>71046</th>\n",
       "      <td>0</td>\n",
       "      <td>0</td>\n",
       "      <td>4</td>\n",
       "    </tr>\n",
       "    <tr>\n",
       "      <th>71047</th>\n",
       "      <td>1</td>\n",
       "      <td>0</td>\n",
       "      <td>4</td>\n",
       "    </tr>\n",
       "    <tr>\n",
       "      <th>71048</th>\n",
       "      <td>10</td>\n",
       "      <td>1</td>\n",
       "      <td>4</td>\n",
       "    </tr>\n",
       "  </tbody>\n",
       "</table>\n",
       "<p>71049 rows × 3 columns</p>\n",
       "</div>"
      ],
      "text/plain": [
       "      key mode time_signature\n",
       "0       8    0              4\n",
       "1       8    1              4\n",
       "2       6    0              4\n",
       "3       8    1              4\n",
       "4      11    1              4\n",
       "...    ..  ...            ...\n",
       "71044   0    1              4\n",
       "71045   5    0              4\n",
       "71046   0    0              4\n",
       "71047   1    0              4\n",
       "71048  10    1              4\n",
       "\n",
       "[71049 rows x 3 columns]"
      ]
     },
     "execution_count": 46,
     "metadata": {},
     "output_type": "execute_result"
    }
   ],
   "source": [
    "X_disc = X_disc.astype('object')\n",
    "X_disc"
   ]
  },
  {
   "cell_type": "code",
   "execution_count": 47,
   "id": "c47b6f61-d9d4-4ea3-a8ae-01b19e76a228",
   "metadata": {},
   "outputs": [
    {
     "data": {
      "text/html": [
       "<div>\n",
       "<style scoped>\n",
       "    .dataframe tbody tr th:only-of-type {\n",
       "        vertical-align: middle;\n",
       "    }\n",
       "\n",
       "    .dataframe tbody tr th {\n",
       "        vertical-align: top;\n",
       "    }\n",
       "\n",
       "    .dataframe thead th {\n",
       "        text-align: right;\n",
       "    }\n",
       "</style>\n",
       "<table border=\"1\" class=\"dataframe\">\n",
       "  <thead>\n",
       "    <tr style=\"text-align: right;\">\n",
       "      <th></th>\n",
       "      <th>danceability</th>\n",
       "      <th>energy</th>\n",
       "      <th>loudness</th>\n",
       "      <th>speechiness</th>\n",
       "      <th>acousticness</th>\n",
       "      <th>instrumentalness</th>\n",
       "      <th>liveness</th>\n",
       "      <th>valence</th>\n",
       "      <th>tempo</th>\n",
       "      <th>duration_ms</th>\n",
       "      <th>key</th>\n",
       "      <th>mode</th>\n",
       "      <th>time_signature</th>\n",
       "    </tr>\n",
       "  </thead>\n",
       "  <tbody>\n",
       "    <tr>\n",
       "      <th>0</th>\n",
       "      <td>1.444551</td>\n",
       "      <td>0.398530</td>\n",
       "      <td>0.535885</td>\n",
       "      <td>-0.072987</td>\n",
       "      <td>-0.715863</td>\n",
       "      <td>-0.634049</td>\n",
       "      <td>-0.496986</td>\n",
       "      <td>1.448900</td>\n",
       "      <td>1.047256</td>\n",
       "      <td>-0.308862</td>\n",
       "      <td>8</td>\n",
       "      <td>0</td>\n",
       "      <td>4</td>\n",
       "    </tr>\n",
       "    <tr>\n",
       "      <th>1</th>\n",
       "      <td>1.946305</td>\n",
       "      <td>0.079174</td>\n",
       "      <td>0.623124</td>\n",
       "      <td>0.311382</td>\n",
       "      <td>-0.989200</td>\n",
       "      <td>-0.634246</td>\n",
       "      <td>-0.445362</td>\n",
       "      <td>-0.401288</td>\n",
       "      <td>-0.350819</td>\n",
       "      <td>-0.481005</td>\n",
       "      <td>8</td>\n",
       "      <td>1</td>\n",
       "      <td>4</td>\n",
       "    </tr>\n",
       "    <tr>\n",
       "      <th>2</th>\n",
       "      <td>-0.087119</td>\n",
       "      <td>0.662347</td>\n",
       "      <td>0.731088</td>\n",
       "      <td>-0.241298</td>\n",
       "      <td>-0.137443</td>\n",
       "      <td>-0.631510</td>\n",
       "      <td>0.832350</td>\n",
       "      <td>0.888121</td>\n",
       "      <td>1.825163</td>\n",
       "      <td>-0.540047</td>\n",
       "      <td>6</td>\n",
       "      <td>0</td>\n",
       "      <td>4</td>\n",
       "    </tr>\n",
       "    <tr>\n",
       "      <th>3</th>\n",
       "      <td>1.159344</td>\n",
       "      <td>0.544324</td>\n",
       "      <td>0.590342</td>\n",
       "      <td>-0.427514</td>\n",
       "      <td>-0.567895</td>\n",
       "      <td>-0.634272</td>\n",
       "      <td>0.974318</td>\n",
       "      <td>2.009678</td>\n",
       "      <td>-0.741008</td>\n",
       "      <td>-0.195584</td>\n",
       "      <td>8</td>\n",
       "      <td>1</td>\n",
       "      <td>4</td>\n",
       "    </tr>\n",
       "    <tr>\n",
       "      <th>4</th>\n",
       "      <td>1.185752</td>\n",
       "      <td>-0.052735</td>\n",
       "      <td>0.519494</td>\n",
       "      <td>0.220661</td>\n",
       "      <td>0.126209</td>\n",
       "      <td>-0.634254</td>\n",
       "      <td>-0.580231</td>\n",
       "      <td>0.388380</td>\n",
       "      <td>-1.200250</td>\n",
       "      <td>0.095266</td>\n",
       "      <td>11</td>\n",
       "      <td>1</td>\n",
       "      <td>4</td>\n",
       "    </tr>\n",
       "    <tr>\n",
       "      <th>...</th>\n",
       "      <td>...</td>\n",
       "      <td>...</td>\n",
       "      <td>...</td>\n",
       "      <td>...</td>\n",
       "      <td>...</td>\n",
       "      <td>...</td>\n",
       "      <td>...</td>\n",
       "      <td>...</td>\n",
       "      <td>...</td>\n",
       "      <td>...</td>\n",
       "      <td>...</td>\n",
       "      <td>...</td>\n",
       "      <td>...</td>\n",
       "    </tr>\n",
       "    <tr>\n",
       "      <th>71044</th>\n",
       "      <td>1.132936</td>\n",
       "      <td>0.738715</td>\n",
       "      <td>0.343663</td>\n",
       "      <td>0.209918</td>\n",
       "      <td>-0.446831</td>\n",
       "      <td>-0.632128</td>\n",
       "      <td>0.174135</td>\n",
       "      <td>1.315381</td>\n",
       "      <td>-0.351534</td>\n",
       "      <td>-0.529705</td>\n",
       "      <td>0</td>\n",
       "      <td>1</td>\n",
       "      <td>4</td>\n",
       "    </tr>\n",
       "    <tr>\n",
       "      <th>71045</th>\n",
       "      <td>-0.345919</td>\n",
       "      <td>-0.379034</td>\n",
       "      <td>0.623937</td>\n",
       "      <td>-0.497942</td>\n",
       "      <td>-0.172418</td>\n",
       "      <td>-0.634272</td>\n",
       "      <td>-0.623467</td>\n",
       "      <td>-0.534807</td>\n",
       "      <td>1.306623</td>\n",
       "      <td>0.599032</td>\n",
       "      <td>5</td>\n",
       "      <td>0</td>\n",
       "      <td>4</td>\n",
       "    </tr>\n",
       "    <tr>\n",
       "      <th>71046</th>\n",
       "      <td>-0.229723</td>\n",
       "      <td>0.172898</td>\n",
       "      <td>0.666608</td>\n",
       "      <td>-0.438257</td>\n",
       "      <td>-0.145514</td>\n",
       "      <td>-0.634272</td>\n",
       "      <td>-0.393737</td>\n",
       "      <td>0.277750</td>\n",
       "      <td>1.694407</td>\n",
       "      <td>-0.015071</td>\n",
       "      <td>0</td>\n",
       "      <td>0</td>\n",
       "      <td>4</td>\n",
       "    </tr>\n",
       "    <tr>\n",
       "      <th>71047</th>\n",
       "      <td>1.581873</td>\n",
       "      <td>-0.142988</td>\n",
       "      <td>0.115542</td>\n",
       "      <td>-0.334406</td>\n",
       "      <td>0.319912</td>\n",
       "      <td>-0.631562</td>\n",
       "      <td>-0.458268</td>\n",
       "      <td>-1.221474</td>\n",
       "      <td>-0.415385</td>\n",
       "      <td>-0.283299</td>\n",
       "      <td>1</td>\n",
       "      <td>0</td>\n",
       "      <td>4</td>\n",
       "    </tr>\n",
       "    <tr>\n",
       "      <th>71048</th>\n",
       "      <td>1.206878</td>\n",
       "      <td>-0.233241</td>\n",
       "      <td>0.664576</td>\n",
       "      <td>-0.292626</td>\n",
       "      <td>-0.285411</td>\n",
       "      <td>-0.634272</td>\n",
       "      <td>1.348597</td>\n",
       "      <td>-0.340251</td>\n",
       "      <td>0.071620</td>\n",
       "      <td>0.081893</td>\n",
       "      <td>10</td>\n",
       "      <td>1</td>\n",
       "      <td>4</td>\n",
       "    </tr>\n",
       "  </tbody>\n",
       "</table>\n",
       "<p>71049 rows × 13 columns</p>\n",
       "</div>"
      ],
      "text/plain": [
       "       danceability    energy  loudness  speechiness  acousticness  \\\n",
       "0          1.444551  0.398530  0.535885    -0.072987     -0.715863   \n",
       "1          1.946305  0.079174  0.623124     0.311382     -0.989200   \n",
       "2         -0.087119  0.662347  0.731088    -0.241298     -0.137443   \n",
       "3          1.159344  0.544324  0.590342    -0.427514     -0.567895   \n",
       "4          1.185752 -0.052735  0.519494     0.220661      0.126209   \n",
       "...             ...       ...       ...          ...           ...   \n",
       "71044      1.132936  0.738715  0.343663     0.209918     -0.446831   \n",
       "71045     -0.345919 -0.379034  0.623937    -0.497942     -0.172418   \n",
       "71046     -0.229723  0.172898  0.666608    -0.438257     -0.145514   \n",
       "71047      1.581873 -0.142988  0.115542    -0.334406      0.319912   \n",
       "71048      1.206878 -0.233241  0.664576    -0.292626     -0.285411   \n",
       "\n",
       "       instrumentalness  liveness   valence     tempo  duration_ms key mode  \\\n",
       "0             -0.634049 -0.496986  1.448900  1.047256    -0.308862   8    0   \n",
       "1             -0.634246 -0.445362 -0.401288 -0.350819    -0.481005   8    1   \n",
       "2             -0.631510  0.832350  0.888121  1.825163    -0.540047   6    0   \n",
       "3             -0.634272  0.974318  2.009678 -0.741008    -0.195584   8    1   \n",
       "4             -0.634254 -0.580231  0.388380 -1.200250     0.095266  11    1   \n",
       "...                 ...       ...       ...       ...          ...  ..  ...   \n",
       "71044         -0.632128  0.174135  1.315381 -0.351534    -0.529705   0    1   \n",
       "71045         -0.634272 -0.623467 -0.534807  1.306623     0.599032   5    0   \n",
       "71046         -0.634272 -0.393737  0.277750  1.694407    -0.015071   0    0   \n",
       "71047         -0.631562 -0.458268 -1.221474 -0.415385    -0.283299   1    0   \n",
       "71048         -0.634272  1.348597 -0.340251  0.071620     0.081893  10    1   \n",
       "\n",
       "      time_signature  \n",
       "0                  4  \n",
       "1                  4  \n",
       "2                  4  \n",
       "3                  4  \n",
       "4                  4  \n",
       "...              ...  \n",
       "71044              4  \n",
       "71045              4  \n",
       "71046              4  \n",
       "71047              4  \n",
       "71048              4  \n",
       "\n",
       "[71049 rows x 13 columns]"
      ]
     },
     "execution_count": 47,
     "metadata": {},
     "output_type": "execute_result"
    }
   ],
   "source": [
    "X_prep = pd.concat([X_cont_st, X_disc], axis=1)\n",
    "X_prep"
   ]
  },
  {
   "cell_type": "code",
   "execution_count": 48,
   "id": "41e3e9ff-8537-48a3-9fdc-76630bc10e78",
   "metadata": {},
   "outputs": [],
   "source": [
    "# Subset of X just for practical purposes (faster processing)"
   ]
  },
  {
   "cell_type": "code",
   "execution_count": 49,
   "id": "5a8d2c40-add4-495a-899e-9aae033a4c7e",
   "metadata": {},
   "outputs": [],
   "source": [
    "# With 1000 samples we get 7 clusters\n",
    "X_prep = X_prep.sample(50000)"
   ]
  },
  {
   "cell_type": "code",
   "execution_count": 50,
   "id": "b65f5f21-86ec-4784-820d-13681a217b46",
   "metadata": {},
   "outputs": [],
   "source": [
    "# Cluster"
   ]
  },
  {
   "cell_type": "code",
   "execution_count": 51,
   "id": "9381bb1a-6666-48b1-888b-8c6db5dbdb5b",
   "metadata": {},
   "outputs": [],
   "source": [
    "from sklearn.cluster import KMeans"
   ]
  },
  {
   "cell_type": "code",
   "execution_count": 52,
   "id": "59fb6d4f-7a6c-47ae-b787-58be5b572869",
   "metadata": {},
   "outputs": [
    {
     "data": {
      "text/plain": [
       "Text(0.5, 1.0, 'Elbow Method showing the optimal k within [2, 3, 4, 5, 6, 7, 8, 9, 10, 11, 12, 13, 14, 15, 16, 17, 18, 19]')"
      ]
     },
     "execution_count": 52,
     "metadata": {},
     "output_type": "execute_result"
    },
    {
     "data": {
      "image/png": "[encoded data removed]",
      "text/plain": [
       "<Figure size 1152x576 with 1 Axes>"
      ]
     },
     "metadata": {
      "needs_background": "light"
     },
     "output_type": "display_data"
    }
   ],
   "source": [
    "K = range(2,20)\n",
    "inertias = []\n",
    "\n",
    "for k in K:\n",
    "    kmeans = KMeans(n_clusters=k,\n",
    "                    random_state=1234,\n",
    "                   )\n",
    "    kmeans.fit(X_prep)\n",
    "    inertias.append(kmeans.inertia_)\n",
    "    \n",
    "import matplotlib.pyplot as plt\n",
    "\n",
    "plt.figure(figsize=(16,8))\n",
    "plt.plot(K, inertias, 'bx-')\n",
    "plt.xlabel('k')\n",
    "plt.ylabel('inertia')\n",
    "plt.xticks(np.arange(min(K), max(K)+1, 1.0))\n",
    "plt.title(f'Elbow Method showing the optimal k within {list(K)}')"
   ]
  },
  {
   "cell_type": "code",
   "execution_count": 53,
   "id": "905ca8b2-1c91-40e4-aa4e-5cd7b6296224",
   "metadata": {},
   "outputs": [
    {
     "data": {
      "application/vnd.jupyter.widget-view+json": {
       "model_id": "8844876d72524200bd9d872905430e72",
       "version_major": 2,
       "version_minor": 0
      },
      "text/plain": [
       "  0%|          | 0/18 [00:00<?, ?it/s]"
      ]
     },
     "metadata": {},
     "output_type": "display_data"
    },
    {
     "data": {
      "text/plain": [
       "Text(0.5, 1.0, 'Silhouette Method showing the optimal k within [2, 3, 4, 5, 6, 7, 8, 9, 10, 11, 12, 13, 14, 15, 16, 17, 18, 19]')"
      ]
     },
     "execution_count": 53,
     "metadata": {},
     "output_type": "execute_result"
    },
    {
     "data": {
      "image/png": "[encoded data removed]",
      "text/plain": [
       "<Figure size 1152x576 with 1 Axes>"
      ]
     },
     "metadata": {
      "needs_background": "light"
     },
     "output_type": "display_data"
    }
   ],
   "source": [
    "from sklearn.metrics import silhouette_score\n",
    "\n",
    "import numpy as np\n",
    "K = range(2,20)\n",
    "silhouettes = []\n",
    "\n",
    "for k in tqdm(K):\n",
    "    kmeans = KMeans(n_clusters=k, random_state=1234)\n",
    "    kmeans.fit(X_prep)\n",
    "    silhouettes.append(silhouette_score(X_prep, kmeans.predict(X_prep) )\n",
    "                   )\n",
    "    \n",
    "import matplotlib.pyplot as plt\n",
    "\n",
    "plt.figure(figsize=(16,8))\n",
    "plt.plot(K, silhouettes, 'bx-')\n",
    "plt.xlabel('k')\n",
    "plt.ylabel('silhouette score')\n",
    "plt.xticks(np.arange(min(K), max(K)+1, 1.0))\n",
    "plt.title(f'Silhouette Method showing the optimal k within {list(K)}')"
   ]
  },
  {
   "cell_type": "code",
   "execution_count": 99,
   "id": "33582c08-bdc0-4eb3-b08d-4bd183baa9e4",
   "metadata": {},
   "outputs": [],
   "source": [
    "#I decide for 6 clusters\n"
   ]
  },
  {
   "cell_type": "code",
   "execution_count": 106,
   "id": "880caa46-ca25-452c-a1ab-1212fd56ff05",
   "metadata": {},
   "outputs": [],
   "source": [
    "cols = X_prep.columns"
   ]
  },
  {
   "cell_type": "code",
   "execution_count": 107,
   "id": "bc2a5a70-09d1-4638-b7aa-2c9c17c52390",
   "metadata": {},
   "outputs": [],
   "source": [
    "kmeans = KMeans(n_clusters=6,\n",
    "               random_state=1234)\n",
    "kmeans.fit(X_prep)\n",
    "\n",
    "clusters = kmeans.predict(X_prep)"
   ]
  },
  {
   "cell_type": "code",
   "execution_count": 108,
   "id": "0460c9bc-4609-483f-b96d-c3b842c44230",
   "metadata": {},
   "outputs": [
    {
     "data": {
      "text/plain": [
       "(50000,)"
      ]
     },
     "execution_count": 108,
     "metadata": {},
     "output_type": "execute_result"
    }
   ],
   "source": [
    "clusters.shape"
   ]
  },
  {
   "cell_type": "code",
   "execution_count": 109,
   "id": "d7ce4681-ec0c-49e2-878d-4c156c8ab01d",
   "metadata": {},
   "outputs": [],
   "source": [
    "songs_clustered = X_prep.copy()\n",
    "songs_clustered['cluster_id'] = clusters"
   ]
  },
  {
   "cell_type": "code",
   "execution_count": 110,
   "id": "d139f278-bb10-466b-b54c-4bfeca82497a",
   "metadata": {},
   "outputs": [
    {
     "data": {
      "text/html": [
       "<div>\n",
       "<style scoped>\n",
       "    .dataframe tbody tr th:only-of-type {\n",
       "        vertical-align: middle;\n",
       "    }\n",
       "\n",
       "    .dataframe tbody tr th {\n",
       "        vertical-align: top;\n",
       "    }\n",
       "\n",
       "    .dataframe thead th {\n",
       "        text-align: right;\n",
       "    }\n",
       "</style>\n",
       "<table border=\"1\" class=\"dataframe\">\n",
       "  <thead>\n",
       "    <tr style=\"text-align: right;\">\n",
       "      <th></th>\n",
       "      <th>danceability</th>\n",
       "      <th>energy</th>\n",
       "      <th>loudness</th>\n",
       "      <th>speechiness</th>\n",
       "      <th>acousticness</th>\n",
       "      <th>instrumentalness</th>\n",
       "      <th>liveness</th>\n",
       "      <th>valence</th>\n",
       "      <th>tempo</th>\n",
       "      <th>duration_ms</th>\n",
       "      <th>key</th>\n",
       "      <th>mode</th>\n",
       "      <th>time_signature</th>\n",
       "      <th>cluster_id</th>\n",
       "    </tr>\n",
       "  </thead>\n",
       "  <tbody>\n",
       "    <tr>\n",
       "      <th>51741</th>\n",
       "      <td>-2.083572</td>\n",
       "      <td>-1.864182</td>\n",
       "      <td>-3.580714</td>\n",
       "      <td>-0.435870</td>\n",
       "      <td>1.584365</td>\n",
       "      <td>1.433245</td>\n",
       "      <td>-0.438909</td>\n",
       "      <td>-1.179511</td>\n",
       "      <td>-1.558188</td>\n",
       "      <td>-0.573269</td>\n",
       "      <td>2</td>\n",
       "      <td>1</td>\n",
       "      <td>5</td>\n",
       "      <td>2</td>\n",
       "    </tr>\n",
       "    <tr>\n",
       "      <th>14227</th>\n",
       "      <td>0.124146</td>\n",
       "      <td>0.822025</td>\n",
       "      <td>0.773624</td>\n",
       "      <td>-0.336793</td>\n",
       "      <td>-0.789847</td>\n",
       "      <td>-0.633752</td>\n",
       "      <td>0.096698</td>\n",
       "      <td>1.452714</td>\n",
       "      <td>1.305876</td>\n",
       "      <td>-0.499992</td>\n",
       "      <td>7</td>\n",
       "      <td>1</td>\n",
       "      <td>4</td>\n",
       "      <td>4</td>\n",
       "    </tr>\n",
       "    <tr>\n",
       "      <th>17330</th>\n",
       "      <td>-0.092401</td>\n",
       "      <td>-1.606475</td>\n",
       "      <td>-1.741797</td>\n",
       "      <td>-0.155352</td>\n",
       "      <td>1.463300</td>\n",
       "      <td>1.788770</td>\n",
       "      <td>-0.484080</td>\n",
       "      <td>-0.290658</td>\n",
       "      <td>0.567501</td>\n",
       "      <td>-0.771979</td>\n",
       "      <td>7</td>\n",
       "      <td>0</td>\n",
       "      <td>3</td>\n",
       "      <td>5</td>\n",
       "    </tr>\n",
       "    <tr>\n",
       "      <th>67195</th>\n",
       "      <td>-0.219160</td>\n",
       "      <td>-0.965678</td>\n",
       "      <td>-0.484561</td>\n",
       "      <td>-0.413189</td>\n",
       "      <td>1.148532</td>\n",
       "      <td>1.857141</td>\n",
       "      <td>-0.516346</td>\n",
       "      <td>-0.054139</td>\n",
       "      <td>1.693074</td>\n",
       "      <td>0.090601</td>\n",
       "      <td>11</td>\n",
       "      <td>1</td>\n",
       "      <td>3</td>\n",
       "      <td>1</td>\n",
       "    </tr>\n",
       "    <tr>\n",
       "      <th>62281</th>\n",
       "      <td>0.113582</td>\n",
       "      <td>-0.125631</td>\n",
       "      <td>-0.549042</td>\n",
       "      <td>-0.515847</td>\n",
       "      <td>-0.632463</td>\n",
       "      <td>1.791505</td>\n",
       "      <td>-0.541513</td>\n",
       "      <td>-1.362241</td>\n",
       "      <td>-0.773746</td>\n",
       "      <td>0.276027</td>\n",
       "      <td>0</td>\n",
       "      <td>1</td>\n",
       "      <td>4</td>\n",
       "      <td>2</td>\n",
       "    </tr>\n",
       "    <tr>\n",
       "      <th>...</th>\n",
       "      <td>...</td>\n",
       "      <td>...</td>\n",
       "      <td>...</td>\n",
       "      <td>...</td>\n",
       "      <td>...</td>\n",
       "      <td>...</td>\n",
       "      <td>...</td>\n",
       "      <td>...</td>\n",
       "      <td>...</td>\n",
       "      <td>...</td>\n",
       "      <td>...</td>\n",
       "      <td>...</td>\n",
       "      <td>...</td>\n",
       "      <td>...</td>\n",
       "    </tr>\n",
       "    <tr>\n",
       "      <th>32059</th>\n",
       "      <td>0.541394</td>\n",
       "      <td>-0.476230</td>\n",
       "      <td>-0.225690</td>\n",
       "      <td>-0.489586</td>\n",
       "      <td>0.467880</td>\n",
       "      <td>-0.634272</td>\n",
       "      <td>3.149009</td>\n",
       "      <td>-0.401288</td>\n",
       "      <td>0.480210</td>\n",
       "      <td>0.244493</td>\n",
       "      <td>7</td>\n",
       "      <td>1</td>\n",
       "      <td>4</td>\n",
       "      <td>4</td>\n",
       "    </tr>\n",
       "    <tr>\n",
       "      <th>41282</th>\n",
       "      <td>-0.620563</td>\n",
       "      <td>1.547520</td>\n",
       "      <td>1.106999</td>\n",
       "      <td>1.170840</td>\n",
       "      <td>-1.052692</td>\n",
       "      <td>-0.634272</td>\n",
       "      <td>1.361503</td>\n",
       "      <td>0.296824</td>\n",
       "      <td>-0.740553</td>\n",
       "      <td>0.078979</td>\n",
       "      <td>8</td>\n",
       "      <td>1</td>\n",
       "      <td>4</td>\n",
       "      <td>4</td>\n",
       "    </tr>\n",
       "    <tr>\n",
       "      <th>65380</th>\n",
       "      <td>0.689279</td>\n",
       "      <td>0.745657</td>\n",
       "      <td>0.472624</td>\n",
       "      <td>-0.082537</td>\n",
       "      <td>-0.797649</td>\n",
       "      <td>-0.634082</td>\n",
       "      <td>-0.837064</td>\n",
       "      <td>1.731196</td>\n",
       "      <td>-0.268340</td>\n",
       "      <td>0.516560</td>\n",
       "      <td>9</td>\n",
       "      <td>1</td>\n",
       "      <td>4</td>\n",
       "      <td>1</td>\n",
       "    </tr>\n",
       "    <tr>\n",
       "      <th>21162</th>\n",
       "      <td>-0.520212</td>\n",
       "      <td>-0.899724</td>\n",
       "      <td>-0.502984</td>\n",
       "      <td>-0.488392</td>\n",
       "      <td>0.710009</td>\n",
       "      <td>-0.633438</td>\n",
       "      <td>-0.471174</td>\n",
       "      <td>-0.199102</td>\n",
       "      <td>0.637495</td>\n",
       "      <td>-0.040661</td>\n",
       "      <td>9</td>\n",
       "      <td>1</td>\n",
       "      <td>3</td>\n",
       "      <td>1</td>\n",
       "    </tr>\n",
       "    <tr>\n",
       "      <th>45586</th>\n",
       "      <td>-2.162797</td>\n",
       "      <td>-1.871402</td>\n",
       "      <td>-4.273610</td>\n",
       "      <td>-0.438257</td>\n",
       "      <td>0.720770</td>\n",
       "      <td>-0.147476</td>\n",
       "      <td>-0.367925</td>\n",
       "      <td>-1.490037</td>\n",
       "      <td>-1.287865</td>\n",
       "      <td>1.338445</td>\n",
       "      <td>0</td>\n",
       "      <td>1</td>\n",
       "      <td>3</td>\n",
       "      <td>2</td>\n",
       "    </tr>\n",
       "  </tbody>\n",
       "</table>\n",
       "<p>50000 rows × 14 columns</p>\n",
       "</div>"
      ],
      "text/plain": [
       "       danceability    energy  loudness  speechiness  acousticness  \\\n",
       "51741     -2.083572 -1.864182 -3.580714    -0.435870      1.584365   \n",
       "14227      0.124146  0.822025  0.773624    -0.336793     -0.789847   \n",
       "17330     -0.092401 -1.606475 -1.741797    -0.155352      1.463300   \n",
       "67195     -0.219160 -0.965678 -0.484561    -0.413189      1.148532   \n",
       "62281      0.113582 -0.125631 -0.549042    -0.515847     -0.632463   \n",
       "...             ...       ...       ...          ...           ...   \n",
       "32059      0.541394 -0.476230 -0.225690    -0.489586      0.467880   \n",
       "41282     -0.620563  1.547520  1.106999     1.170840     -1.052692   \n",
       "65380      0.689279  0.745657  0.472624    -0.082537     -0.797649   \n",
       "21162     -0.520212 -0.899724 -0.502984    -0.488392      0.710009   \n",
       "45586     -2.162797 -1.871402 -4.273610    -0.438257      0.720770   \n",
       "\n",
       "       instrumentalness  liveness   valence     tempo  duration_ms key mode  \\\n",
       "51741          1.433245 -0.438909 -1.179511 -1.558188    -0.573269   2    1   \n",
       "14227         -0.633752  0.096698  1.452714  1.305876    -0.499992   7    1   \n",
       "17330          1.788770 -0.484080 -0.290658  0.567501    -0.771979   7    0   \n",
       "67195          1.857141 -0.516346 -0.054139  1.693074     0.090601  11    1   \n",
       "62281          1.791505 -0.541513 -1.362241 -0.773746     0.276027   0    1   \n",
       "...                 ...       ...       ...       ...          ...  ..  ...   \n",
       "32059         -0.634272  3.149009 -0.401288  0.480210     0.244493   7    1   \n",
       "41282         -0.634272  1.361503  0.296824 -0.740553     0.078979   8    1   \n",
       "65380         -0.634082 -0.837064  1.731196 -0.268340     0.516560   9    1   \n",
       "21162         -0.633438 -0.471174 -0.199102  0.637495    -0.040661   9    1   \n",
       "45586         -0.147476 -0.367925 -1.490037 -1.287865     1.338445   0    1   \n",
       "\n",
       "      time_signature  cluster_id  \n",
       "51741              5           2  \n",
       "14227              4           4  \n",
       "17330              3           5  \n",
       "67195              3           1  \n",
       "62281              4           2  \n",
       "...              ...         ...  \n",
       "32059              4           4  \n",
       "41282              4           4  \n",
       "65380              4           1  \n",
       "21162              3           1  \n",
       "45586              3           2  \n",
       "\n",
       "[50000 rows x 14 columns]"
      ]
     },
     "execution_count": 110,
     "metadata": {},
     "output_type": "execute_result"
    }
   ],
   "source": [
    "songs_clustered"
   ]
  },
  {
   "cell_type": "code",
   "execution_count": 111,
   "id": "45319ac4-da18-4f96-ac9d-377b1221c549",
   "metadata": {},
   "outputs": [],
   "source": [
    "cluster_centers_df = pd.DataFrame(kmeans.cluster_centers_, columns=cols)\n",
    "cluster_centers_df['cluster_id'] = range(0,6)"
   ]
  },
  {
   "cell_type": "code",
   "execution_count": 112,
   "id": "f6b0f831-149f-48c0-a91b-dd2b2c988339",
   "metadata": {},
   "outputs": [],
   "source": [
    "# we can only plot 2 dimensions,\n",
    "# so we take 'danceability', 'loudness'\n",
    "# we also need the 'cluster_id' to color the dots with\n",
    "clusters_sub_df = cluster_centers_df[['danceability', 'loudness', 'cluster_id']]\n",
    "songs_sub_df = songs_clustered[['danceability', 'loudness', 'cluster_id']]"
   ]
  },
  {
   "cell_type": "code",
   "execution_count": null,
   "id": "e3f7f411-9a0b-4976-a70c-5541d130af53",
   "metadata": {},
   "outputs": [],
   "source": []
  },
  {
   "cell_type": "markdown",
   "id": "6a3edec8-855a-4a96-bb2f-d24e49c1bd8e",
   "metadata": {},
   "source": [
    "# Is a song in the Top 100 list?"
   ]
  },
  {
   "cell_type": "code",
   "execution_count": 114,
   "id": "197b9a0d-609e-421f-9716-188178f7afc4",
   "metadata": {},
   "outputs": [],
   "source": [
    "def is_hot(song):\n",
    "    s = top100['song'].str.contains(song, na=False, case=False)\n",
    "    if s.sum() > 0:\n",
    "        return True\n",
    "    else:\n",
    "        return False"
   ]
  },
  {
   "cell_type": "code",
   "execution_count": 115,
   "id": "7422d557-463d-4607-9b1e-1c67aed16f56",
   "metadata": {},
   "outputs": [
    {
     "data": {
      "text/plain": [
       "True"
      ]
     },
     "execution_count": 115,
     "metadata": {},
     "output_type": "execute_result"
    }
   ],
   "source": [
    "is_hot('as it was')"
   ]
  },
  {
   "cell_type": "markdown",
   "id": "5ceb4ab4-149e-4024-a746-37ccbd8ad2ed",
   "metadata": {},
   "source": [
    "# Ask for user input and recommend song"
   ]
  },
  {
   "cell_type": "code",
   "execution_count": 116,
   "id": "68b8205c-1384-48d9-b677-ae73c712d2d8",
   "metadata": {},
   "outputs": [],
   "source": [
    "def recommend():\n",
    "    print(\"\"\"\n",
    "    Enter your song's name. Example:\n",
    "    >>> As it Was\n",
    "    \"\"\")\n",
    "    user_input = input()\n",
    "    \n",
    "    if is_hot(user_input):\n",
    "        \n",
    "        s = top100[top100['song'].str.contains(user_input, na=False, case=False)].sample()\n",
    "        \n",
    "        print('Match found!')\n",
    "        print('* ' + '\"' + s.iloc[0]['song'] + '\"' + ' by ' + s.iloc[0]['artist'])\n",
    "        s = top100.sample()\n",
    "        print(\"\"\"Your song is hot!\\nHere's another one for you to check out:\"\"\")\n",
    "        print('* ' + '\"'+s.iloc[0]['song']+'\"' + ' by ' + s.iloc[0]['artist'])\n",
    "    else:\n",
    "        \n",
    "        result = sp.search(q=user_input, type='track', limit=1)\n",
    "        song_audio_features = sp.audio_features(result['tracks']['items'][0]['id'])\n",
    "        song_audio_features_df = pd.DataFrame(song_audio_features, columns=X_cont.columns)\n",
    "        song_scaled = pd.DataFrame(scaler.transform(song_audio_features_df))\n",
    "        song_disc = pd.DataFrame(song_audio_features, columns=['key','mode','time_signature'])\n",
    "        song_audio_features = pd.concat([song_scaled,song_disc], axis=1)\n",
    "        cl = kmeans.predict(song_audio_features)[0]\n",
    "        recommendation = df_all.iloc[songs_clustered[songs_clustered.cluster_id==cl].sample().index]\n",
    "\n",
    "        print(\"\"\"Your song is not in the Top 100.\\nHowever I found a similar match to your search:\"\"\")\n",
    "        print(\"* \" + str(result['tracks']['items'][0]['name']) +\n",
    "              \" by \" +\n",
    "              str(result['tracks']['items'][0]['artists'][0]['name']))\n",
    "        print(\"Here's another one for you to check out:\")\n",
    "        print('* ' + str(recommendation.song_name.iloc[0]) +\n",
    "              \" by \"\n",
    "              + str([i for i in recommendation.artists.iloc[0]][0]))\n",
    "    pass"
   ]
  },
  {
   "cell_type": "markdown",
   "id": "70670f24-12fc-4371-9d51-f156ebe5960f",
   "metadata": {},
   "source": [
    "# Execute"
   ]
  },
  {
   "cell_type": "code",
   "execution_count": 118,
   "id": "77997815-fc12-460d-afe0-4dae9fc8d43c",
   "metadata": {},
   "outputs": [
    {
     "name": "stdout",
     "output_type": "stream",
     "text": [
      "\n",
      "    Enter your song's name. Example:\n",
      "    >>> As it Was\n",
      "    \n"
     ]
    },
    {
     "name": "stdin",
     "output_type": "stream",
     "text": [
      " as it was\n"
     ]
    },
    {
     "name": "stdout",
     "output_type": "stream",
     "text": [
      "Match found!\n",
      "* \"As It Was\" by Harry Styles\n",
      "Your song is hot!\n",
      "Here's another one for you to check out:\n",
      "* \"Woman\" by Doja Cat\n"
     ]
    }
   ],
   "source": [
    "recommend()\n"
   ]
  },
  {
   "cell_type": "code",
   "execution_count": null,
   "id": "d58bc500-16eb-4b05-b245-524d7a8c318d",
   "metadata": {},
   "outputs": [],
   "source": []
  }
 ],
 "metadata": {
  "kernelspec": {
   "display_name": "Python 3 (ipykernel)",
   "language": "python",
   "name": "python3"
  },
  "language_info": {
   "codemirror_mode": {
    "name": "ipython",
    "version": 3
   },
   "file_extension": ".py",
   "mimetype": "text/x-python",
   "name": "python",
   "nbconvert_exporter": "python",
   "pygments_lexer": "ipython3",
   "version": "3.8.12"
  }
 },
 "nbformat": 4,
 "nbformat_minor": 5
}
